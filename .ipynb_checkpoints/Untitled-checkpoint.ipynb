{
 "cells": [
  {
   "cell_type": "code",
   "execution_count": 24,
   "metadata": {},
   "outputs": [],
   "source": [
    "chestPain = 10\n",
    "bloodPressure = 10\n",
    "cholesterol = 10\n",
    "bloodSugar = 10\n",
    "ecg = 10\n",
    "heartRate = 110\n",
    "workout= 0\n",
    "oldPeak = 10\n",
    "thallium = 3\n",
    "sex = 0\n",
    "age = 20\n",
    "outputSick = 10"
   ]
  },
  {
   "cell_type": "code",
   "execution_count": 19,
   "metadata": {},
   "outputs": [],
   "source": [
    "heartRateFunc = [0 for i in range(3)]\n",
    "# hearRate_low:\n",
    "if 100<=heartRate<=141:\n",
    "    heartRateFunc[0] = (-1 * heartRate + 141) / 41\n",
    "# hearRate_medium:\n",
    "if 111<=heartRate<=152:\n",
    "    heartRateFunc[1] = (heartRate - 111) / 41\n",
    "elif 152<=heartRate<=194:\n",
    "    heartRateFunc[1] = (-1 * heartRate + 194) / 42\n",
    "# hearRate_high:\n",
    "if 152<=heartRate<=210:\n",
    "    heartRateFunc[2] = (heartRate - 152) / 58"
   ]
  },
  {
   "cell_type": "code",
   "execution_count": 21,
   "metadata": {},
   "outputs": [],
   "source": [
    "ecgFunc = [0 for i in range(3)]\n",
    "# ecg_normal:\n",
    "if 0<=ecg<=0.4:\n",
    "    ecgFunc[0] = (-1 * ecg + 0.4) / 0.4\n",
    "# ecg_abnormal:\n",
    "if 0.2<=ecg<=1:\n",
    "    ecgFunc[1] = (ecg - 0.2) / 0.8\n",
    "elif 1<=ecg<=1.8:\n",
    "    ecgFunc[1] = (-1 * ecg + 1.8) / 0.8\n",
    "# ecg_hypertrophy:\n",
    "if 1.4<=ecg<=1.9:\n",
    "    ecgFunc[2] = (ecg - 1.4) / 0.5"
   ]
  },
  {
   "cell_type": "code",
   "execution_count": 22,
   "metadata": {},
   "outputs": [],
   "source": [
    "oldPeakFunc = [0 for i in range(3)]\n",
    "# oldPeak_low:\n",
    "if 1<=oldPeak<=2:\n",
    "    oldPeakFunc[0] = (-1 * oldPeak + 2) / 1\n",
    "# oldPeak_risk:\n",
    "if 1.5<=oldPeak<=2.8:\n",
    "    oldPeakFunc[1] = (oldPeak - 1.5) / 1.3\n",
    "elif 2.8<=oldPeak<=4.2:\n",
    "    oldPeakFunc[1] = (-1 * oldPeak + 4.2) / 1.4\n",
    "# oldPeak_terrible:\n",
    "if 2.5<=oldPeak<=4:\n",
    "    oldPeakFunc[2] = (oldPeak - 2.5) / 1.5"
   ]
  },
  {
   "cell_type": "code",
   "execution_count": 25,
   "metadata": {},
   "outputs": [],
   "source": [
    "outputSickFunc = [0 for i in range(5)]\n",
    "# output_sick1:\n",
    "if 0.25<=outputSick<=1:\n",
    "    outputSickFunc[0] = (-1 * outputSick + 1) / 0.75\n",
    "# output_sick2:\n",
    "if 0<=outputSick<=1:\n",
    "    outputSickFunc[1] = (outputSick - 0) / 1\n",
    "elif 1<=outputSick<=2:\n",
    "    outputSickFunc[1] = (-1 * outputSick + 2) / 1\n",
    "# output_sick3:\n",
    "if 1<=outputSick<=2:\n",
    "    outputSickFunc[2] = (outputSick - 1) / 1\n",
    "elif 2<=outputSick<=3:\n",
    "    outputSickFunc[2] = (-1 * outputSick + 3) / 1\n",
    "# output_sick4:\n",
    "if 2<=outputSick<=3:\n",
    "    outputSickFunc[3] = (outputSick - 2) / 1\n",
    "elif 3<=outputSick<=4:\n",
    "    outputSickFunc[3] = (-1 * outputSick + 4) / 1\n",
    "# output_healthy:\n",
    "if 3<=outputSick<=3.75:\n",
    "    outputSickFunc[4] = (outputSick - 3) / 0.75"
   ]
  },
  {
   "cell_type": "code",
   "execution_count": 26,
   "metadata": {},
   "outputs": [],
   "source": [
    "ageFunc = [0 for i in range(4)]\n",
    "if 29<=age<=38:\n",
    "  ageFunc[0] = (38 - age)/9\n",
    "if 33<=age<=38:\n",
    "  ageFunc[1] = (age - 33)/5\n",
    "if 38<=age<=45:\n",
    "  ageFunc[1] = (45 - age)/7\n",
    "if 40<=age<=48:\n",
    "  ageFunc[2] = (age - 40)/8\n",
    "if 48<=age<=58:\n",
    "  ageFunc[2] = (58 - age)/10\n",
    "if 52<=age<=60:\n",
    "  ageFunc[3] = (age - 52)/8"
   ]
  },
  {
   "cell_type": "code",
   "execution_count": 27,
   "metadata": {},
   "outputs": [],
   "source": [
    "bloodpresFunc = [0 for i in range(4)]\n",
    "if 111<=bloodPressure<=134:\n",
    "  bloodpresFunc[0] = (134 - bloodPressure)/23\n",
    "if 127<=bloodPressure<=139:\n",
    "  bloodpresFunc[1] = (bloodPressure - 127)/12\n",
    "if 139<=bloodPressure<=153:\n",
    "  bloodpresFunc[1] = (153 - bloodPressure)/14\n",
    "if 142<=bloodPressure<=157:\n",
    "  bloodpresFunc[2] = (bloodPressure - 142)/15\n",
    "if 157<=bloodPressure<=172:\n",
    "  bloodpresFunc[2] = (172 - bloodPressure)/15\n",
    "if 154<=bloodPressure<=171:\n",
    "  bloodpresFunc[3] = (bloodPressure - 154)/17"
   ]
  },
  {
   "cell_type": "code",
   "execution_count": 28,
   "metadata": {},
   "outputs": [],
   "source": [
    "bloodSugarFunc = [0 for i in range(1)]\n",
    "if 105<=bloodSugar<=120:\n",
    "  bloodSugarFunc[0] = (bloodSugar - 105)/15"
   ]
  },
  {
   "cell_type": "code",
   "execution_count": 29,
   "metadata": {},
   "outputs": [],
   "source": [
    "cholFunc = [0 for i in range(4)]\n",
    "if 151<=cholesterol<=197:\n",
    "  cholFunc[0] = (197 - cholesterol)/46\n",
    "if 188<=cholesterol<=215:\n",
    "  cholFunc[1] = (cholesterol - 188)/27\n",
    "if 215<=cholesterol<=250:\n",
    "  cholFunc[1] = (250 - cholesterol)/35\n",
    "if 217<=cholesterol<=263:\n",
    "  cholFunc[2] = (cholesterol - 217)/46\n",
    "if 263<=cholesterol<=307:\n",
    "  cholFunc[2] = (307 - cholesterol)/44\n",
    "if 281<=cholesterol<=347:\n",
    "  cholFunc[3] = (cholesterol - 281)/66"
   ]
  },
  {
   "cell_type": "code",
   "execution_count": null,
   "metadata": {},
   "outputs": [],
   "source": []
  }
 ],
 "metadata": {
  "kernelspec": {
   "display_name": "Python 3",
   "language": "python",
   "name": "python3"
  },
  "language_info": {
   "codemirror_mode": {
    "name": "ipython",
    "version": 3
   },
   "file_extension": ".py",
   "mimetype": "text/x-python",
   "name": "python",
   "nbconvert_exporter": "python",
   "pygments_lexer": "ipython3",
   "version": "3.8.5"
  }
 },
 "nbformat": 4,
 "nbformat_minor": 4
}
